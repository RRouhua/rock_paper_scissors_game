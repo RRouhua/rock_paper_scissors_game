{
 "cells": [
  {
   "cell_type": "code",
   "execution_count": 6,
   "id": "848b32bd",
   "metadata": {},
   "outputs": [
    {
     "name": "stdout",
     "output_type": "stream",
     "text": [
      "Welcome to rock paper scissors! \n",
      "Please enter your name: \n",
      "RH\n",
      "Please pick: 1) Rock 2) Paper 3) Scissors:\n",
      "3\n",
      "RH: Scissors\n",
      "computer: Rock\n",
      "You Lose!\n",
      "RH, thank you for playing! \n"
     ]
    }
   ],
   "source": [
    "import random\n",
    "\n",
    "def print_hand(num):\n",
    "    if num == 1:\n",
    "        return \"Rock\"\n",
    "    elif num == 2:\n",
    "        return \"Paper\"\n",
    "    else:\n",
    "        return \"Scissors\"\n",
    "\n",
    "print(\"Welcome to rock paper scissors! \")\n",
    "print(\"Please enter your name: \")\n",
    "player_name = input()\n",
    "\n",
    "print(\"Please pick: 1) Rock 2) Paper 3) Scissors:\")\n",
    "\n",
    "player_hand = int(input())\n",
    "computer_hand = random.randint(1,3)\n",
    "\n",
    "print(\"{}: {}\".format(player_name, print_hand(player_hand)))\n",
    "print(\"computer: {}\".format(print_hand(computer_hand)))\n",
    "\n",
    "if player_hand == computer_hand:\n",
    "    print(\"It's a draw\")\n",
    "elif (player_hand == 1 and computer_hand == 3) or (player_hand == 2 and computer_hand == 1) or (player_hand == 3 and computer_hand == 2):\n",
    "    print(\"You Win!\")\n",
    "else:\n",
    "    print(\"You Lose!\")\n",
    "    \n",
    "print(\"{}, thank you for playing! \".format(player_name))"
   ]
  },
  {
   "cell_type": "code",
   "execution_count": null,
   "id": "a2a409a8",
   "metadata": {},
   "outputs": [],
   "source": []
  }
 ],
 "metadata": {
  "kernelspec": {
   "display_name": "Python 3 (ipykernel)",
   "language": "python",
   "name": "python3"
  },
  "language_info": {
   "codemirror_mode": {
    "name": "ipython",
    "version": 3
   },
   "file_extension": ".py",
   "mimetype": "text/x-python",
   "name": "python",
   "nbconvert_exporter": "python",
   "pygments_lexer": "ipython3",
   "version": "3.11.7"
  }
 },
 "nbformat": 4,
 "nbformat_minor": 5
}
